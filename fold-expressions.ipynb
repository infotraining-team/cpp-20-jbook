{
 "cells": [
  {
   "cell_type": "markdown",
   "metadata": {},
   "source": [
    "# Fold expressions w C++17\n",
    "\n",
    "## Wyrażenia *fold* w językach funkcjonalnych\n",
    "\n",
    "Koncept *redukcji* jest jednym z podstawowych pojęć w językach funkcjonalnych.\n",
    "\n",
    "**Fold** w językach funkcjonalnych to rodzina funkcji wyższego rzędu zwana również **reduce**, **accumulate**, **compress** lub **inject**. Funkcje **fold** przetwarzają rekursywnie uporządkowane kolekcje danych (listy) w celu zbudowania końcowego wyniku przy pomocy funkcji (operatora) łączącej elementy.\n",
    "\n",
    "Dwie najbardziej popularne funkcje z tej rodziny to fold (fold left) i foldr (fold right).\n",
    "\n",
    "Przykład:\n",
    "\n",
    "Redukcja listy [1, 2, 3, 4, 5] z użyciem operatora (+):\n",
    "\n",
    "- użycie funkcji ``fold`` - redukcja od lewej do prawej\n",
    "\n",
    "---\n",
    "\n",
    "```haskell\n",
    "fold (+) 0 [1..5]\n",
    "```\n",
    "```console\n",
    "(((((0 + 1) + 2) + 3) + 4) + 5)\n",
    "```\n",
    "\n",
    "- użycie funkcji ``foldr`` - redukcja od prawej do lewej\n",
    "\n",
    "---\n",
    "\n",
    "```haskell\n",
    "foldr (+) 0 [1..5]\n",
    "```\n",
    "```console\n",
    "(1 + (2 + (3 + (4 + (5 + 0)))))\n",
    "```\n",
    "\n",
    "### Redukcja w C++ - ``std::accumulate``\n",
    "\n",
    "W C++ redukcja jest obecna poprzez implementację algorytmu ``std::accumulate``. "
   ]
  },
  {
   "cell_type": "code",
   "execution_count": 1,
   "metadata": {},
   "outputs": [],
   "source": [
    "#include <vector>\n",
    "#include <numeric>\n",
    "#include <string>\n",
    "\n",
    "using namespace std::string_literals;\n",
    "\n",
    "std::vector<int> vec = {1, 2, 3, 4, 5};\n",
    "\n",
    "std::accumulate(std::begin(vec), std::end(vec), \"0\"s, \n",
    "                   [](const std::string& reduction, int item) { \n",
    "                       return \"(\"s + reduction +  \" + \"s + std::to_string(item) + \")\"s; });"
   ]
  },
  {
   "cell_type": "markdown",
   "metadata": {},
   "source": [
    "## Variadic templates\n",
    "\n",
    "C++11 wprowadziło *variadic templates* jako jeden z podstawowych mechanizmów zaawansowanego programowania z wykorzystaniem szablonów. \n",
    "\n",
    "*Variadic templates* umożliwiają między innymi implementację funkcji akceptujących dowolną liczbę parametrów z zachowaniem bezpieczeństwa typów.\n",
    "\n",
    "Implementacja redukcji z wykorzystaniem *variadic templates* często wykorzystuje idiom *Head-Tail*, który polega na rekursywnym wywołaniu funkcji z częścią parametrów. Rekurencja jest przerywana, albo przez implementację funkcji, albo przez specjalizację szablonu klasy dla końcowego przypadku."
   ]
  },
  {
   "cell_type": "code",
   "execution_count": 2,
   "metadata": {
    "hide_output": true
   },
   "outputs": [],
   "source": [
    "namespace Cpp11 \n",
    "{\n",
    "    auto sum()\n",
    "    {\n",
    "        return 0;\n",
    "    }\n",
    "    \n",
    "    template <typename Head, typename... Tail>\n",
    "    auto sum(Head head, Tail... tail)\n",
    "    {\n",
    "        return head + sum(tail...);\n",
    "    }\n",
    "}"
   ]
  },
  {
   "cell_type": "code",
   "execution_count": 3,
   "metadata": {},
   "outputs": [],
   "source": [
    "Cpp11::sum(1, 2, 3, 4, 5);"
   ]
  },
  {
   "cell_type": "markdown",
   "metadata": {},
   "source": [
    "## Fold expressions w C++17\n",
    "\n",
    "Wyrażenia typu *fold* umożliwiają uproszczenie rekurencyjnych implementacji dla zmiennej liczby argumentów szablonu.\n",
    "\n",
    "Przykład z wariadyczną funkcją ``sum(1, 2, 3, 4, 5)`` z wykorzystaniem *fold expressions* może być w C++17 zaimplementowany następująco:"
   ]
  },
  {
   "cell_type": "code",
   "execution_count": 4,
   "metadata": {
    "hide_output": true
   },
   "outputs": [],
   "source": [
    "template <typename... Args>\n",
    "auto sum(Args&&... args)\n",
    "{\n",
    "    return (... + args);\n",
    "}"
   ]
  },
  {
   "cell_type": "code",
   "execution_count": 5,
   "metadata": {},
   "outputs": [],
   "source": [
    "sum(1, 2, 3, 4, 5);"
   ]
  },
  {
   "cell_type": "markdown",
   "metadata": {},
   "source": [
    "### Składnia wyrażeń fold"
   ]
  },
  {
   "cell_type": "markdown",
   "metadata": {},
   "source": [
    "Niech `\"e\"` $= e_1, e_2, \\dotso, e_n$ będzie wyrażeniem, które zawiera nierozpakowany *parameter pack* i  $\\otimes$ jest *operatorem fold*, wówczas **wyrażenie fold** ma postać:\n",
    "\n",
    "- Unary **left fold**\n",
    "\n",
    "    $(\\dotso\\; \\otimes\\; e)$ \n",
    "\n",
    "  który jest rozwijany do postaci $(((e_1 \\otimes e_2) \\dotso ) \\otimes e_n)$ "
   ]
  },
  {
   "cell_type": "markdown",
   "metadata": {},
   "source": [
    "- Unary **right fold**\n",
    "\n",
    "    $(e\\; \\otimes\\; \\dotso)$\n",
    "    \n",
    "  który jest rozwijany do postaci $(e_1 \\otimes ( \\dotso (e_{n-1} \\otimes e_n)))$"
   ]
  },
  {
   "cell_type": "markdown",
   "metadata": {},
   "source": [
    "Jeśli dodamy argument nie będący paczką parametrów do operatora ``...`` dostaniemy dwuargumentową wersję **wyrażenia fold**. W zależności od tego po której stronie operatora ``...`` dodamy dodatkowy argument otrzymamy:\n",
    "\n",
    "- Binary **left fold**\n",
    "\n",
    "    $(a \\otimes\\; \\dotso\\; \\otimes\\; e)$ \n",
    "\n",
    "  który jest rozwijany do postaci $(((a \\otimes e_1) \\dotso ) \\otimes e_n)$ "
   ]
  },
  {
   "cell_type": "markdown",
   "metadata": {},
   "source": [
    "- Binary **right fold**\n",
    "\n",
    "    $(e\\; \\otimes\\; \\dotso\\; \\otimes\\; a)$\n",
    "    \n",
    "  który jest rozwijany do postaci $(e_1 \\otimes ( \\dotso (e_n \\otimes a)))$"
   ]
  },
  {
   "cell_type": "markdown",
   "metadata": {},
   "source": [
    "Operatorem $\\otimes$ może być jeden z poniższych operatorów C++:\n",
    "\n",
    "```cpp\n",
    "+  -  *  /  %  ^  &  |  ~  =  <  >  <<  >>\n",
    "+=  -=  *=  /=  %=  ^=  &=  |=  <<=  >>=\n",
    "==  !=  <=  >=  &&  ||  ,  .*  ->*\n",
    "```"
   ]
  },
  {
   "cell_type": "markdown",
   "metadata": {},
   "source": [
    "### Elementy identycznościowe\n",
    "\n",
    "Operacja fold dla pustej paczki parametrów (*parameter pack*) jest ewaluowana do określonej wartości zależnej od rodzaju zastosowanego operatora. Zbiór operatorów i ich rozwinięć dla pustej listy parametrów prezentuje tabela poniżej:\n",
    "\n",
    "| Operator        | Wartość zwracana jako element identycznościowy |\n",
    "|-----------------|------------------------------------------------|\n",
    "|    $*$          |                  1                             |\n",
    "|    $+$          |                  0                             |\n",
    "|    $\\&$          |                 -1                             |\n",
    "|    $\\mid$       |                  0                             |\n",
    "|    $\\&\\&$         |                true                            |\n",
    "|    $\\mid\\mid$   |                false                           |\n",
    "|    $,$          |               void()                           |\n",
    "\n",
    "Jeśli operacja fold jest ewaluowana dla pustej paczki parametrów dla innego operatora, program jest nieprawidłowo skonstruoawany (*ill-formed*)."
   ]
  },
  {
   "cell_type": "markdown",
   "metadata": {},
   "source": [
    "### Przykłady zastosowań wyrażeń fold w C++17"
   ]
  },
  {
   "cell_type": "markdown",
   "metadata": {},
   "source": [
    "Wariadyczna funkcja przyjmująca dowolną liczbę argumentów konwertowalnych do wartości logicznych i zwracająca ich iloczyn logiczny (``operator &&``):"
   ]
  },
  {
   "cell_type": "code",
   "execution_count": 6,
   "metadata": {
    "hide_output": true
   },
   "outputs": [],
   "source": [
    "template <typename... Args>\n",
    "bool all_true(Args... args)\n",
    "{\n",
    "    return (... && args);\n",
    "}"
   ]
  },
  {
   "cell_type": "code",
   "execution_count": 7,
   "metadata": {},
   "outputs": [],
   "source": [
    "bool result = all_true(true, true, false, true);"
   ]
  },
  {
   "cell_type": "markdown",
   "metadata": {},
   "source": [
    "---\n",
    "\n",
    "Funkcja ``print()`` wypisująca przekazane argumenty. Implementacja wykorzystuje wyrażenie *binary left fold* dla operatora ``<<``:"
   ]
  },
  {
   "cell_type": "code",
   "execution_count": 8,
   "metadata": {},
   "outputs": [],
   "source": [
    "#include <iostream>\n",
    "\n",
    "template <typename... Args>\n",
    "void print(Args&&... args)\n",
    "{\n",
    "    (std::cout << ... << args) << \"\\n\";\n",
    "}"
   ]
  },
  {
   "cell_type": "code",
   "execution_count": 9,
   "metadata": {},
   "outputs": [
    {
     "name": "stdout",
     "output_type": "stream",
     "text": [
      "1234\n"
     ]
    }
   ],
   "source": [
    "print(1, 2, 3, 4);"
   ]
  },
  {
   "cell_type": "markdown",
   "metadata": {},
   "source": [
    "---\n",
    "\n",
    "Sumowanie zawartości tablicy w czasie kompilacji."
   ]
  },
  {
   "cell_type": "code",
   "execution_count": 10,
   "metadata": {},
   "outputs": [],
   "source": [
    "#include <array>\n",
    "#include <utility>\n",
    "#include <iostream>\n",
    "\n",
    "#define fw(...) ::std::forward<decltype(__VA_ARGS__)>(__VA_ARGS__)\n",
    "\n",
    "namespace Folds\n",
    "{       \n",
    "    namespace Detail\n",
    "    {\n",
    "        template <typename... Args>\n",
    "        constexpr auto sum(Args&&... args)\n",
    "        {\n",
    "            return (... + fw(args));\n",
    "        }\n",
    "\n",
    "        template <typename T, size_t N, size_t... Is>\n",
    "        constexpr auto sum_impl(std::array<T, N> const& arr, std::index_sequence<Is...>)\n",
    "        {\n",
    "            return sum(std::get<Is>(arr)...);\n",
    "        }\n",
    "    }\n",
    "\n",
    "    template <typename T, size_t N>\n",
    "    constexpr T sum(std::array<T, N> const& arr)\n",
    "    {\n",
    "        return Detail::sum_impl(arr, std::make_index_sequence<N>{});\n",
    "    }    \n",
    "}"
   ]
  },
  {
   "cell_type": "code",
   "execution_count": 11,
   "metadata": {},
   "outputs": [
    {
     "name": "stdout",
     "output_type": "stream",
     "text": [
      "15\n"
     ]
    }
   ],
   "source": [
    "constexpr std::array<int, 5> arr1 { { 1, 2, 3, 4, 5 } };    \n",
    "\n",
    "static_assert(std::integral_constant<int, Folds::sum(arr1)>::value == 15);\n",
    "constexpr auto sum_of_array = Folds::sum(arr1);\n",
    "std::cout << sum_of_array << std::endl;"
   ]
  },
  {
   "cell_type": "markdown",
   "metadata": {},
   "source": [
    "---\n",
    "\n",
    "Iteracja po elementach różnych typów:"
   ]
  },
  {
   "cell_type": "code",
   "execution_count": 12,
   "metadata": {},
   "outputs": [],
   "source": [
    "#include <iostream>\n",
    "\n",
    "struct Window {\n",
    "    void show() { std::cout << \"showing Window\\n\"; }\n",
    "};\n",
    "\n",
    "struct Widget {\n",
    "    void show() { std::cout << \"showing Widget\\n\"; }\n",
    "};\n",
    "\n",
    "struct Toolbar {\n",
    "    void show(){ std::cout << \"showing Toolbar\\n\"; }\n",
    "};"
   ]
  },
  {
   "cell_type": "code",
   "execution_count": 13,
   "metadata": {},
   "outputs": [
    {
     "name": "stdout",
     "output_type": "stream",
     "text": [
      "showing Window\n",
      "showing Widget\n",
      "showing Toolbar\n"
     ]
    }
   ],
   "source": [
    "Window wnd;\n",
    "Widget widget;\n",
    "Toolbar toolbar;\n",
    "\n",
    "#define fw(...) ::std::forward<decltype(__VA_ARGS__)>(__VA_ARGS__)\n",
    "\n",
    "auto printer = [](auto&&... args) { (fw(args).show(), ...); };\n",
    "\n",
    "printer(wnd, widget, toolbar);"
   ]
  },
  {
   "cell_type": "markdown",
   "metadata": {},
   "source": [
    "---\n",
    "Implementacja wariadycznej wersji algorytmu ``foreach()`` z wykorzystaniem funkcji ``std::invoke()``:"
   ]
  },
  {
   "cell_type": "code",
   "execution_count": 14,
   "metadata": {},
   "outputs": [],
   "source": [
    "#include <iostream>\n",
    "\n",
    "template <typename F, typename... Args>\n",
    "auto invoke_function(F&& f, Args&&... args)\n",
    "{\n",
    "    return std::forward<F>(f)(std::forward<Args>(args)...);\n",
    "}\n",
    "\n",
    "struct Printer\n",
    "{\n",
    "    template <typename T>\n",
    "    void operator()(T&& arg) const { std::cout << arg; }\n",
    "};"
   ]
  },
  {
   "cell_type": "code",
   "execution_count": 16,
   "metadata": {},
   "outputs": [
    {
     "name": "stdout",
     "output_type": "stream",
     "text": [
      "1 - one; 3.14 - pi"
     ]
    }
   ],
   "source": [
    "#include <string>\n",
    "\n",
    "#define fw(...) ::std::forward<decltype(__VA_ARGS__)>(__VA_ARGS__)\n",
    "\n",
    "using namespace std::literals;\n",
    "\n",
    "auto foreach = [](const auto&& fun, auto&&... args) {\n",
    "    (..., invoke_function(fun, fw(args)));\n",
    "};\n",
    "\n",
    "foreach(Printer{}, 1, \" - one; \", 3.14, \" - pi\"s);"
   ]
  },
  {
   "cell_type": "markdown",
   "metadata": {},
   "source": [
    "---\n",
    "Implementacja wariadycznych wersji algorytmów ``count()`` oraz ``count_if()`` działających na listach typów:"
   ]
  },
  {
   "cell_type": "code",
   "execution_count": 17,
   "metadata": {},
   "outputs": [],
   "source": [
    "#include <type_traits>\n",
    "#include <iostream>\n",
    "\n",
    "// count the times a predicate Predicate is satisfied in a typelist Lst\n",
    "template <template<class> class Predicate, class... Lst>\n",
    "constexpr size_t count_if = (Predicate<Lst>::value + ...); \n",
    "\n",
    "// count the occurences of a type V in a typelist L\n",
    "template <class V, class... Lst>\n",
    "constexpr size_t count = (std::is_same<V, Lst>::value + ...); \n"
   ]
  },
  {
   "cell_type": "code",
   "execution_count": 18,
   "metadata": {},
   "outputs": [],
   "source": [
    "static_assert(count_if<std::is_integral, float, unsigned, int, double, long> == 3);\n",
    "static_assert(count<float, unsigned, int, double, long, float> == 1);"
   ]
  }
 ],
 "metadata": {
  "celltoolbar": "Edit Metadata",
  "kernelspec": {
   "display_name": "C++17",
   "language": "C++17",
   "name": "xcpp17"
  },
  "language_info": {
   "codemirror_mode": "text/x-c++src",
   "file_extension": ".cpp",
   "mimetype": "text/x-c++src",
   "name": "c++",
   "version": "17"
  }
 },
 "nbformat": 4,
 "nbformat_minor": 2
}
