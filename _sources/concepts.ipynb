{
 "cells": [
  {
   "cell_type": "markdown",
   "id": "exciting-buffer",
   "metadata": {},
   "source": [
    "# Programowanie w C++20\n",
    "\n",
    "Koncept jest nazwanym zbiorem wymagań zdefiniowanych dla typu `T`:"
   ]
  },
  {
   "cell_type": "code",
   "execution_count": 1,
   "id": "moving-linux",
   "metadata": {},
   "outputs": [],
   "source": [
    "// template <typename T>\n",
    "// concept Hashable = requires(T) {\n",
    "//     { std::hash<T>{}() } -> std::convertible<size_t>;\n",
    "// };"
   ]
  },
  {
   "cell_type": "code",
   "execution_count": 2,
   "id": "funky-result",
   "metadata": {},
   "outputs": [],
   "source": [
    "#include <variant>\n",
    "#include <string>\n",
    "#include <map>\n",
    "\n",
    "std::map<int, std::string> dict{ {1, \"one\"}, {2, \"two\"} };"
   ]
  },
  {
   "cell_type": "code",
   "execution_count": 3,
   "id": "subtle-luther",
   "metadata": {},
   "outputs": [
    {
     "data": {
      "text/plain": [
       "{ 1 => \"one\", 2 => \"two\" }"
      ]
     },
     "execution_count": 3,
     "metadata": {},
     "output_type": "execute_result"
    }
   ],
   "source": [
    "dict"
   ]
  },
  {
   "cell_type": "code",
   "execution_count": 4,
   "id": "referenced-republican",
   "metadata": {},
   "outputs": [
    {
     "name": "stdout",
     "output_type": "stream",
     "text": [
      "1 - one\n",
      "2 - two\n"
     ]
    }
   ],
   "source": [
    "#include <iostream>\n",
    "\n",
    "for(const auto& [key, value] : dict)\n",
    "    std::cout << key << \" - \" << value << \"\\n\";"
   ]
  },
  {
   "cell_type": "code",
   "execution_count": null,
   "id": "hazardous-alcohol",
   "metadata": {},
   "outputs": [],
   "source": []
  }
 ],
 "metadata": {
  "kernelspec": {
   "display_name": "C++17",
   "language": "C++17",
   "name": "xcpp17"
  },
  "language_info": {
   "codemirror_mode": "text/x-c++src",
   "file_extension": ".cpp",
   "mimetype": "text/x-c++src",
   "name": "c++",
   "version": "17"
  }
 },
 "nbformat": 4,
 "nbformat_minor": 5
}
